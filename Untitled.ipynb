{
 "cells": [
  {
   "cell_type": "code",
   "execution_count": 7,
   "metadata": {},
   "outputs": [],
   "source": [
    "import matplotlib as plt\n",
    "import numpy as np\n",
    "import pandas as pd"
   ]
  },
  {
   "cell_type": "code",
   "execution_count": 8,
   "metadata": {},
   "outputs": [],
   "source": [
    "df=pd.read_excel('~/study/saisyounijyou.xlsx',engine=\"openpyxl\")\n"
   ]
  },
  {
   "cell_type": "code",
   "execution_count": 9,
   "metadata": {},
   "outputs": [
    {
     "name": "stdout",
     "output_type": "stream",
     "text": [
      "   部屋番号  広さ(m²)  家賃(万)\n",
      "0     1      20      9\n",
      "1     2      30     11\n",
      "2     3      40     15\n",
      "3     4      50     20\n",
      "4     5      60     23\n"
     ]
    }
   ],
   "source": [
    "print(df)"
   ]
  },
  {
   "cell_type": "code",
   "execution_count": 14,
   "metadata": {},
   "outputs": [
    {
     "name": "stdout",
     "output_type": "stream",
     "text": [
      "[<Cell 'Sheet1'.A1>, <Cell 'Sheet1'.A2>, <Cell 'Sheet1'.A3>, <Cell 'Sheet1'.A4>, <Cell 'Sheet1'.A5>]\n",
      "[<Cell 'Sheet1'.B1>, <Cell 'Sheet1'.B2>, <Cell 'Sheet1'.B3>, <Cell 'Sheet1'.B4>, <Cell 'Sheet1'.B5>]\n"
     ]
    }
   ],
   "source": [
    "import openpyxl\n",
    "#シートの取得\n",
    "df=openpyxl.load_workbook('saisyounijyou.xlsx')\n",
    "Sheet=df['Sheet1']\n",
    "SheetMax=Sheet.max_row\n",
    "#広さ配列\n",
    "ruumnum=[]\n",
    "#家賃配列\n",
    "ruumval=[]\n",
    "\n",
    "for i in range(1,SheetMax):\n",
    "    ruumnum.append(Sheet.cell(i,1))\n",
    "    ruumval.append(Sheet.cell(i,2))\n",
    "print(ruumnum)\n",
    "print(ruumval)"
   ]
  },
  {
   "cell_type": "code",
   "execution_count": null,
   "metadata": {},
   "outputs": [],
   "source": []
  }
 ],
 "metadata": {
  "kernelspec": {
   "display_name": "Python 3",
   "language": "python",
   "name": "python3"
  },
  "language_info": {
   "codemirror_mode": {
    "name": "ipython",
    "version": 3
   },
   "file_extension": ".py",
   "mimetype": "text/x-python",
   "name": "python",
   "nbconvert_exporter": "python",
   "pygments_lexer": "ipython3",
   "version": "3.6.9"
  }
 },
 "nbformat": 4,
 "nbformat_minor": 4
}
